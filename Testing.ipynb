{
 "cells": [
  {
   "cell_type": "code",
   "execution_count": 1,
   "metadata": {
    "collapsed": false
   },
   "outputs": [],
   "source": [
    "from code_gen_lib.mmocr_config_writers.dataset_config import *"
   ]
  },
  {
   "cell_type": "code",
   "execution_count": 2,
   "metadata": {
    "collapsed": false
   },
   "outputs": [],
   "source": [
    "data_config = DatasetConfig(\"cord\", \"textdet\")"
   ]
  },
  {
   "cell_type": "code",
   "execution_count": 3,
   "metadata": {
    "collapsed": false
   },
   "outputs": [],
   "source": [
    "data_config(\"./cord/\", [\"textdet_train.json\", \"textdet_test.json\"], [\"train\", \"test\"])"
   ]
  },
  {
   "cell_type": "code",
   "execution_count": 2,
   "metadata": {
    "collapsed": false
   },
   "outputs": [],
   "source": [
    "\n",
    "if_block = ConditionBlock(condition=\"(x<2) and (y>5)\", statements=[\"x = x + 3\", \"y += 3\"], block_type=\"if\")\n",
    "else_block = ConditionBlock(condition=\"\", statements=[\"x += 5\", \"y = y + 5\"], block_type=\"else\")\n",
    "func_block = FunctionBlock(func_name=\"add\", parameters=\"x,y\", statements=[if_block, else_block, \"z = x + y\", \"return z\"])"
   ]
  },
  {
   "cell_type": "code",
   "execution_count": 3,
   "metadata": {
    "collapsed": false
   },
   "outputs": [
    {
     "name": "stdout",
     "output_type": "stream",
     "text": [
      "def add(x,y):\n",
      "\tif ((x<2) and (y>5)):\n",
      "\t\tx = x + 3\n",
      "\t\ty += 3\n",
      "\telse:\n",
      "\t\tx += 5\n",
      "\t\ty = y + 5\n",
      "\tz = x + y\n",
      "\treturn z\n",
      "\n"
     ]
    }
   ],
   "source": [
    "print(func_block)"
   ]
  },
  {
   "cell_type": "code",
   "execution_count": 10,
   "metadata": {
    "collapsed": false
   },
   "outputs": [],
   "source": [
    "with open(\"sample.py\", \"w\") as f:\n",
    "    f.write(str(func_block))"
   ]
  },
  {
   "cell_type": "code",
   "execution_count": 4,
   "metadata": {
    "collapsed": false
   },
   "outputs": [],
   "source": [
    "def add(x,y):\n",
    "    if ((x<2) and (y>5)):\n",
    "        x = x + 3\n",
    "        y += 3\n",
    "    else:\n",
    "        x += 5\n",
    "        y = y + 5\n",
    "    z = x + y\n",
    "    return z\n"
   ]
  },
  {
   "cell_type": "code",
   "execution_count": 5,
   "metadata": {
    "collapsed": false
   },
   "outputs": [
    {
     "data": {
      "text/plain": [
       "15"
      ]
     },
     "execution_count": 5,
     "metadata": {},
     "output_type": "execute_result"
    }
   ],
   "source": [
    "add(2,3)"
   ]
  },
  {
   "cell_type": "code",
   "execution_count": null,
   "metadata": {
    "collapsed": false
   },
   "outputs": [],
   "source": [
    "\"\"\"\n",
    "icdar2015_textdet_data_root = 'data/icdar2015' # dataset root path\n",
    "\n",
    "# Train set config\n",
    "icdar2015_textdet_train = dict(\n",
    "    type='OCRDataset',\n",
    "    data_root=icdar2015_textdet_data_root,               # dataset root path\n",
    "    ann_file='textdet_train.json',                       # name of annotation\n",
    "    filter_cfg=dict(filter_empty_gt=True, min_size=32),  # filtering empty images\n",
    "    pipeline=None)\n",
    "# Test set config\n",
    "icdar2015_textdet_test = dict(\n",
    "    type='OCRDataset',\n",
    "    data_root=icdar2015_textdet_data_root,\n",
    "    ann_file='textdet_test.json',\n",
    "    test_mode=True,\n",
    "    pipeline=None)\n",
    "\"\"\""
   ]
  },
  {
   "cell_type": "code",
   "execution_count": 6,
   "metadata": {
    "collapsed": false
   },
   "outputs": [],
   "source": [
    "statement = StatementBlock(statements=[\"icdar2015_textdet_data_root = 'data/icdar2015' # dataset root path\", \"\",\n",
    "                                       \"# Train set config\", \"icdar2015_textdet_train = dict(\", \"\\ttype='OCRDataset',\"\n",
    "                                       \"\\tdata_root=icdar2015_textdet_data_root,               # dataset root path\",\n",
    "                                       \"\\tann_file='textdet_train.json',                       # name of annotation\",\n",
    "                                       \"\\tfilter_cfg=dict(filter_empty_gt=True, min_size=32),  # filtering empty images\",\n",
    "                                       \"\\tpipeline=None)\", \"# Test set config\", \"icdar2015_textdet_test = dict(\",\n",
    "                                       \"\\ttype='OCRDataset',\", \"\\tdata_root=icdar2015_textdet_data_root,\",\n",
    "                                       \"\\tann_file='textdet_test.json',\", \"\\ttest_mode=True,\", \"\\tpipeline=None)\"])"
   ]
  },
  {
   "cell_type": "code",
   "execution_count": 1,
   "metadata": {
    "collapsed": false
   },
   "outputs": [],
   "source": [
    "from code_gen_lib.mmocr_config_writers.model_config import ModelConfig"
   ]
  },
  {
   "cell_type": "code",
   "execution_count": 2,
   "metadata": {
    "collapsed": false
   },
   "outputs": [],
   "source": [
    "sample = ModelConfig(\"textdet\",\"cord.py\", \"dbnet\", \"resnet18\", \"fpnc\", 1200)"
   ]
  },
  {
   "cell_type": "code",
   "execution_count": 3,
   "metadata": {
    "collapsed": false
   },
   "outputs": [],
   "source": [
    "model = sample()"
   ]
  },
  {
   "cell_type": "code",
   "execution_count": 4,
   "metadata": {
    "collapsed": false
   },
   "outputs": [],
   "source": [
    "model()"
   ]
  },
  {
   "cell_type": "code",
   "execution_count": 2,
   "metadata": {
    "collapsed": false
   },
   "outputs": [],
   "source": [
    "sample = ModelConfig(\"textrecog\",\"cord.py\", \"aster\", 1200)"
   ]
  },
  {
   "cell_type": "code",
   "execution_count": 1,
   "metadata": {
    "collapsed": false
   },
   "outputs": [],
   "source": [
    "a = dict(x=4,y=2,z=2)"
   ]
  },
  {
   "cell_type": "code",
   "execution_count": 8,
   "metadata": {
    "collapsed": false
   },
   "outputs": [
    {
     "data": {
      "text/plain": [
       "4"
      ]
     },
     "execution_count": 8,
     "metadata": {},
     "output_type": "execute_result"
    }
   ],
   "source": [
    "a['x']"
   ]
  },
  {
   "cell_type": "code",
   "execution_count": null,
   "metadata": {
    "collapsed": false
   },
   "outputs": [],
   "source": []
  }
 ],
 "metadata": {
  "kernelspec": {
   "display_name": "Python 3",
   "language": "python",
   "name": "python3"
  },
  "language_info": {
   "codemirror_mode": {
    "name": "ipython",
    "version": 2
   },
   "file_extension": ".py",
   "mimetype": "text/x-python",
   "name": "python",
   "nbconvert_exporter": "python",
   "pygments_lexer": "ipython2",
   "version": "2.7.6"
  }
 },
 "nbformat": 4,
 "nbformat_minor": 0
}
